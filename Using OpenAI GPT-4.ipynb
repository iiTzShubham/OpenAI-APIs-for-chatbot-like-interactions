{
  "nbformat": 4,
  "nbformat_minor": 0,
  "metadata": {
    "colab": {
      "provenance": []
    },
    "kernelspec": {
      "name": "python3",
      "display_name": "Python 3"
    },
    "language_info": {
      "name": "python"
    }
  },
  "cells": [
    {
      "cell_type": "code",
      "source": [
        "!pip install requests bs4 PyPDF2"
      ],
      "metadata": {
        "colab": {
          "base_uri": "https://localhost:8080/"
        },
        "id": "o_CeaW942JRn",
        "outputId": "9b94fcbc-0b99-4a30-d5a6-f1e714755ef2"
      },
      "execution_count": 2,
      "outputs": [
        {
          "output_type": "stream",
          "name": "stdout",
          "text": [
            "Requirement already satisfied: requests in /usr/local/lib/python3.10/dist-packages (2.32.3)\n",
            "Collecting bs4\n",
            "  Downloading bs4-0.0.2-py2.py3-none-any.whl.metadata (411 bytes)\n",
            "Collecting PyPDF2\n",
            "  Downloading pypdf2-3.0.1-py3-none-any.whl.metadata (6.8 kB)\n",
            "Requirement already satisfied: charset-normalizer<4,>=2 in /usr/local/lib/python3.10/dist-packages (from requests) (3.4.0)\n",
            "Requirement already satisfied: idna<4,>=2.5 in /usr/local/lib/python3.10/dist-packages (from requests) (3.10)\n",
            "Requirement already satisfied: urllib3<3,>=1.21.1 in /usr/local/lib/python3.10/dist-packages (from requests) (2.2.3)\n",
            "Requirement already satisfied: certifi>=2017.4.17 in /usr/local/lib/python3.10/dist-packages (from requests) (2024.8.30)\n",
            "Requirement already satisfied: beautifulsoup4 in /usr/local/lib/python3.10/dist-packages (from bs4) (4.12.3)\n",
            "Requirement already satisfied: soupsieve>1.2 in /usr/local/lib/python3.10/dist-packages (from beautifulsoup4->bs4) (2.6)\n",
            "Downloading bs4-0.0.2-py2.py3-none-any.whl (1.2 kB)\n",
            "Downloading pypdf2-3.0.1-py3-none-any.whl (232 kB)\n",
            "\u001b[2K   \u001b[90m━━━━━━━━━━━━━━━━━━━━━━━━━━━━━━━━━━━━━━━━\u001b[0m \u001b[32m232.6/232.6 kB\u001b[0m \u001b[31m5.9 MB/s\u001b[0m eta \u001b[36m0:00:00\u001b[0m\n",
            "\u001b[?25hInstalling collected packages: PyPDF2, bs4\n",
            "Successfully installed PyPDF2-3.0.1 bs4-0.0.2\n"
          ]
        }
      ]
    },
    {
      "cell_type": "code",
      "source": [
        "!pip install openai==0.28"
      ],
      "metadata": {
        "colab": {
          "base_uri": "https://localhost:8080/",
          "height": 599
        },
        "id": "yWbBCd6s2pfy",
        "outputId": "de129bef-41c0-4e1f-94a4-c7f9f602fa8f"
      },
      "execution_count": 4,
      "outputs": [
        {
          "output_type": "stream",
          "name": "stdout",
          "text": [
            "Collecting openai==0.28\n",
            "  Downloading openai-0.28.0-py3-none-any.whl.metadata (13 kB)\n",
            "Requirement already satisfied: requests>=2.20 in /usr/local/lib/python3.10/dist-packages (from openai==0.28) (2.32.3)\n",
            "Requirement already satisfied: tqdm in /usr/local/lib/python3.10/dist-packages (from openai==0.28) (4.66.6)\n",
            "Requirement already satisfied: aiohttp in /usr/local/lib/python3.10/dist-packages (from openai==0.28) (3.11.2)\n",
            "Requirement already satisfied: charset-normalizer<4,>=2 in /usr/local/lib/python3.10/dist-packages (from requests>=2.20->openai==0.28) (3.4.0)\n",
            "Requirement already satisfied: idna<4,>=2.5 in /usr/local/lib/python3.10/dist-packages (from requests>=2.20->openai==0.28) (3.10)\n",
            "Requirement already satisfied: urllib3<3,>=1.21.1 in /usr/local/lib/python3.10/dist-packages (from requests>=2.20->openai==0.28) (2.2.3)\n",
            "Requirement already satisfied: certifi>=2017.4.17 in /usr/local/lib/python3.10/dist-packages (from requests>=2.20->openai==0.28) (2024.8.30)\n",
            "Requirement already satisfied: aiohappyeyeballs>=2.3.0 in /usr/local/lib/python3.10/dist-packages (from aiohttp->openai==0.28) (2.4.3)\n",
            "Requirement already satisfied: aiosignal>=1.1.2 in /usr/local/lib/python3.10/dist-packages (from aiohttp->openai==0.28) (1.3.1)\n",
            "Requirement already satisfied: attrs>=17.3.0 in /usr/local/lib/python3.10/dist-packages (from aiohttp->openai==0.28) (24.2.0)\n",
            "Requirement already satisfied: frozenlist>=1.1.1 in /usr/local/lib/python3.10/dist-packages (from aiohttp->openai==0.28) (1.5.0)\n",
            "Requirement already satisfied: multidict<7.0,>=4.5 in /usr/local/lib/python3.10/dist-packages (from aiohttp->openai==0.28) (6.1.0)\n",
            "Requirement already satisfied: propcache>=0.2.0 in /usr/local/lib/python3.10/dist-packages (from aiohttp->openai==0.28) (0.2.0)\n",
            "Requirement already satisfied: yarl<2.0,>=1.17.0 in /usr/local/lib/python3.10/dist-packages (from aiohttp->openai==0.28) (1.17.2)\n",
            "Requirement already satisfied: async-timeout<6.0,>=4.0 in /usr/local/lib/python3.10/dist-packages (from aiohttp->openai==0.28) (4.0.3)\n",
            "Requirement already satisfied: typing-extensions>=4.1.0 in /usr/local/lib/python3.10/dist-packages (from multidict<7.0,>=4.5->aiohttp->openai==0.28) (4.12.2)\n",
            "Downloading openai-0.28.0-py3-none-any.whl (76 kB)\n",
            "\u001b[?25l   \u001b[90m━━━━━━━━━━━━━━━━━━━━━━━━━━━━━━━━━━━━━━━━\u001b[0m \u001b[32m0.0/76.5 kB\u001b[0m \u001b[31m?\u001b[0m eta \u001b[36m-:--:--\u001b[0m\r\u001b[2K   \u001b[91m━━━━━━━━━━━━━━━━━━━━━\u001b[0m\u001b[90m╺\u001b[0m\u001b[90m━━━━━━━━━━━━━━━━━━\u001b[0m \u001b[32m41.0/76.5 kB\u001b[0m \u001b[31m1.3 MB/s\u001b[0m eta \u001b[36m0:00:01\u001b[0m\r\u001b[2K   \u001b[90m━━━━━━━━━━━━━━━━━━━━━━━━━━━━━━━━━━━━━━━━\u001b[0m \u001b[32m76.5/76.5 kB\u001b[0m \u001b[31m977.0 kB/s\u001b[0m eta \u001b[36m0:00:00\u001b[0m\n",
            "\u001b[?25hInstalling collected packages: openai\n",
            "  Attempting uninstall: openai\n",
            "    Found existing installation: openai 1.54.4\n",
            "    Uninstalling openai-1.54.4:\n",
            "      Successfully uninstalled openai-1.54.4\n",
            "Successfully installed openai-0.28.0\n"
          ]
        },
        {
          "output_type": "display_data",
          "data": {
            "application/vnd.colab-display-data+json": {
              "pip_warning": {
                "packages": [
                  "openai"
                ]
              },
              "id": "74766acb2ed64907855734a74b6b9f6c"
            }
          },
          "metadata": {}
        }
      ]
    },
    {
      "cell_type": "code",
      "source": [
        "import requests\n",
        "from bs4 import BeautifulSoup\n",
        "import PyPDF2\n",
        "import openai\n",
        "import re\n",
        "import time\n",
        "\n",
        "openai.api_key =\"your_api_key\"\n",
        "\n",
        "pdf_path = 'Blog.pdf'\n",
        "pdf_text = ''\n",
        "with open(pdf_path, 'rb') as pdf_file:\n",
        "    pdf_reader = PyPDF2.PdfReader(pdf_file)\n",
        "    for page_num in range(len(pdf_reader.pages)):\n",
        "        page = pdf_reader.pages[page_num]\n",
        "        pdf_text += page.extract_text()\n",
        "\n",
        "url='https://blog.google/products/gemini/google-gemini-new-features-july-2024/'\n",
        "txt = requests.get(url)\n",
        "soup = BeautifulSoup(txt.text, 'html.parser')\n",
        "webpage_text = ' '.join([p.text for p in soup.find_all('p')])\n",
        "words = webpage_text.split()\n",
        "first_4000_words = ' '.join(words[:4000])\n",
        "\n",
        "\n",
        "def call_openai_api(messages):\n",
        "    while True:\n",
        "        try:\n",
        "            response = openai.ChatCompletion.create(\n",
        "                model=\"gpt-4\",\n",
        "                messages=messages\n",
        "            )\n",
        "            return response\n",
        "        except openai.error.RateLimitError:\n",
        "            print(\"Rate limit reached. Retrying in 5 seconds...\")\n",
        "            time.sleep(10)\n",
        "\n",
        "# Define the chatbot function\n",
        "def chatbot_conversation():\n",
        "    messages = []\n",
        "\n",
        "    messages.append({\"role\": \"user\", \"content\": \"Solve this complex math problem: Evaluate the integral ∫(x^3 + 2x^2 - x + 1) dx.\"})\n",
        "    response = call_openai_api(messages)\n",
        "    print(\"Step 1: Complex Math Problem\")\n",
        "    print(response.choices[0].message['content'])\n",
        "    messages.append({\"role\": \"assistant\", \"content\": response.choices[0].message['content']})\n",
        "\n",
        "    pdf_prompt = f'You are given a PDF content {pdf_text}. Rewrite the summary and answer the following question shortly. Q1: How can data scientists effectively balance the benefits of GenAI with the potential risks? Q2:What specific strategies can data science teams implement to leverage AI effectively within their organizations?'\n",
        "    messages.append({\"role\": \"user\", \"content\": pdf_prompt})\n",
        "    response = call_openai_api(messages)\n",
        "    print(\"\\nStep 2: PDF Analysis\")\n",
        "    print(response.choices[0].message['content'])\n",
        "    messages.append({\"role\": \"assistant\", \"content\": response.choices[0].message['content']})\n",
        "\n",
        "    web_prompt = f'You are given a website URL content {first_4000_words}. Rewrite the summary from URL and answer the following question shortly. Q1: What are the potential risks of using Google Gemini? Q2: What are the benefits of using Google Gemini?'\n",
        "    messages.append({\"role\": \"user\", \"content\": web_prompt})\n",
        "    response = call_openai_api(messages)\n",
        "    print(\"\\nStep 3: Website Analysis\")\n",
        "    print(response.choices[0].message['content'])\n",
        "    messages.append({\"role\": \"assistant\", \"content\": response.choices[0].message['content']})\n",
        "\n",
        "    messages.append({\"role\": \"user\", \"content\": \"Please summarize our entire conversation.\"})\n",
        "    response = call_openai_api(messages)\n",
        "    print(\"\\nStep 3: Chat Summary\")\n",
        "    print(response.choices[0].message['content'])\n",
        "\n",
        "chatbot_conversation()\n"
      ],
      "metadata": {
        "colab": {
          "base_uri": "https://localhost:8080/"
        },
        "id": "U_eLFItkcSma",
        "outputId": "b8297b6c-95ae-491d-e7e1-b448b2ef82f5"
      },
      "execution_count": 4,
      "outputs": [
        {
          "output_type": "stream",
          "name": "stdout",
          "text": [
            "Step 1: Complex Math Problem\n",
            "The integral of a polynomial is found by raising the power of each term by one and dividing by the new power. Therefore, the integral of the given polynomial is:\n",
            "\n",
            "∫(x^3 + 2x^2 - x + 1) dx = (1/4)x^4 + (2/3)x^3 - (1/2)x^2 + x + C,\n",
            "\n",
            "where C is the constant of integration.\n",
            "\n",
            "Step 2: PDF Analysis\n",
            "Summary: The use of Generative AI (GenAI) is transforming data science teams, enabling faster development cycles, less technical and maintenance efforts, and fostering unique application cases. Nonetheless, GenAI also introduces new risks. The shift requires data scientists to approach their roles differently. It has resulted in the appearance of AI projects that are implemented by external model providers and integrated by non-AI expert teams. However, data scientists remain crucial for verifying when AI usage is appropriate and creating reliable solutions. AI literacy is becoming significant within organizations and data scientists play a pivotal role in making this a reality.\n",
            "\n",
            "Q1: Data scientists can effectively balance the benefits of GenAI with potential risks by staying informed about AI progress to choose the best techniques to solve problems while acknowledging limitations. They must adopt a system-wide perspective, continue working on traditional ML solutions while noting how GenAI can improve velocity and quality of solutions, and have a deep understanding of GenAI limitations and risks to build reliable, trustworthy AI systems.\n",
            "\n",
            "Q2: To leverage AI effectively within their organizations, data science teams can focus on fostering AI literacy across teams, enabling employees to leverage AI while understanding its limitations and risks. They can implement various initiatives like internal trainings, workshops, meetups and hackathons. Also, they should continue to work on traditional ML solutions while acknowledging how GenAI can help augment the velocity and quality of the solutions.\n",
            "\n",
            "Step 3: Website Analysis\n",
            "Summary: Google has introduced a major upgrade to Gemini, including the 1.5 Flash for faster responses, in over 40 languages across more than 230 countries. The upgrade aims at facilitating more productive and creative user experiences. With 1.5 Flash in the unpaid version of Gemini, users will receive faster, more helpful responses. Additionally, Google has introduced a new feature to manage hallucinations, expanded the Gemini for Teens experience, and released the mobile application to a wider demographic. The software firm is also offering related content links within Gemini's responses for fact-seeking prompts. Specific policy guidelines and a responsible design approach continue to guide Gemini's ongoing evolution.\n",
            "\n",
            "Q1: The potential risks of using Google Gemini may include privacy concerns due to the AI's access to user data and the possibility of misinformation or hallucinations in the generated responses.\n",
            "\n",
            "Q2: The benefits of using Google Gemini include faster and more intelligent responses through the 1.5 Flash update, the ability to explore related content links, access to AI for teenagers, and wider language support across many countries. The platform also facilitates creative brainstorming and productivity enhancement.\n",
            "Rate limit reached. Retrying in 5 seconds...\n",
            "Rate limit reached. Retrying in 5 seconds...\n",
            "Rate limit reached. Retrying in 5 seconds...\n",
            "\n",
            "Step 3: Chat Summary\n",
            "We began the conversation by solving a math problem involving the integral of a polynomial. \n",
            "\n",
            "Then, you shared a content blog regarding the effect of Generative AI (GenAI) on data science teams, its challenges, opportunities, and the evolving role of data scientists. I summarized the key points and answered your related questions, emphasizing the importance of data scientists for balancing GenAI's benefits and potential risks, and suggested strategies for leveraging AI within their organizations. \n",
            "\n",
            "Following that, you shared a URL content dated July 25, 2024, about Google's update of the Gemini application. The updates included implementation of 1.5 Flash for faster responses, the addition of a feature to handle hallucinations, expanded access to Gemini for teenagers, and an expanded global reach for their mobile app. After summarizing that update, I addressed your follow-up questions outlining the potential risks and benefits of using Google Gemini.\n"
          ]
        }
      ]
    }
  ]
}